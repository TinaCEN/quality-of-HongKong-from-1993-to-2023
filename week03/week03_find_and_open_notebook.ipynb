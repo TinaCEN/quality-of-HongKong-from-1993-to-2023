{
 "cells": [
  {
   "cell_type": "markdown",
   "id": "4d3f88b5",
   "metadata": {},
   "source": [
    "# 查找 week03 目录\n",
    "使用 Python 的 os 库查找当前工作目录下的 week03 文件夹。"
   ]
  },
  {
   "cell_type": "code",
   "execution_count": 1,
   "id": "dd8759a3",
   "metadata": {},
   "outputs": [
    {
     "name": "stdout",
     "output_type": "stream",
     "text": [
      "当前工作目录: /Users/cenyoushan/Desktop/pfad/week03\n",
      "week03 目录路径: /Users/cenyoushan/Desktop/pfad/week03/pfad/week03\n"
     ]
    }
   ],
   "source": [
    "import os\n",
    "\n",
    "# 获取当前工作目录\n",
    "cwd = os.getcwd()\n",
    "print('当前工作目录:', cwd)\n",
    "\n",
    "# 查找 week03 目录\n",
    "week03_path = None\n",
    "for root, dirs, files in os.walk(cwd):\n",
    "    if 'week03' in dirs:\n",
    "        week03_path = os.path.join(root, 'week03')\n",
    "        break\n",
    "print('week03 目录路径:', week03_path)"
   ]
  },
  {
   "cell_type": "markdown",
   "id": "02ac1caf",
   "metadata": {},
   "source": [
    "# 列出 week03 目录下的所有 notebook 文件\n",
    "使用 os.listdir() 或 glob 模块列出 week03 目录下所有以 .ipynb 结尾的文件。"
   ]
  },
  {
   "cell_type": "code",
   "execution_count": 2,
   "id": "116f1a35",
   "metadata": {},
   "outputs": [
    {
     "name": "stdout",
     "output_type": "stream",
     "text": [
      "找到的 notebook 文件:\n",
      "/Users/cenyoushan/Desktop/pfad/week03/pfad/week03/week03_notebook.ipynb\n"
     ]
    }
   ],
   "source": [
    "import glob\n",
    "\n",
    "# week03_path 需由上一步获得\n",
    "if week03_path:\n",
    "    notebooks = glob.glob(os.path.join(week03_path, '*.ipynb'))\n",
    "    print('找到的 notebook 文件:')\n",
    "    for nb in notebooks:\n",
    "        print(nb)\n",
    "else:\n",
    "    print('未找到 week03 目录')"
   ]
  },
  {
   "cell_type": "markdown",
   "id": "edfde380",
   "metadata": {},
   "source": [
    "# 打开指定的 notebook 文件\n",
    "通过 Jupyter 的 nbformat 或其他方法读取并显示选定的 notebook 文件内容。"
   ]
  },
  {
   "cell_type": "code",
   "execution_count": 3,
   "id": "8b455f8a",
   "metadata": {},
   "outputs": [
    {
     "ename": "ModuleNotFoundError",
     "evalue": "No module named 'nbformat'",
     "output_type": "error",
     "traceback": [
      "\u001b[31m---------------------------------------------------------------------------\u001b[39m",
      "\u001b[31mModuleNotFoundError\u001b[39m                       Traceback (most recent call last)",
      "\u001b[36mCell\u001b[39m\u001b[36m \u001b[39m\u001b[32mIn[3]\u001b[39m\u001b[32m, line 1\u001b[39m\n\u001b[32m----> \u001b[39m\u001b[32m1\u001b[39m \u001b[38;5;28;01mimport\u001b[39;00m\u001b[38;5;250m \u001b[39m\u001b[34;01mnbformat\u001b[39;00m\n\u001b[32m      3\u001b[39m \u001b[38;5;66;03m# 假设 notebooks[0] 是要打开的 notebook 文件\u001b[39;00m\n\u001b[32m      4\u001b[39m \u001b[38;5;28;01mif\u001b[39;00m week03_path \u001b[38;5;129;01mand\u001b[39;00m notebooks:\n",
      "\u001b[31mModuleNotFoundError\u001b[39m: No module named 'nbformat'"
     ]
    }
   ],
   "source": [
    "import nbformat\n",
    "\n",
    "# 假设 notebooks[0] 是要打开的 notebook 文件\n",
    "if week03_path and notebooks:\n",
    "    nb_path = notebooks[0]\n",
    "    with open(nb_path, 'r', encoding='utf-8') as f:\n",
    "        nb = nbformat.read(f, as_version=4)\n",
    "    print(f\"已打开 notebook: {nb_path}\")\n",
    "    print(f\"包含 {len(nb.cells)} 个单元格\")\n",
    "else:\n",
    "    print('未找到可打开的 notebook 文件')"
   ]
  }
 ],
 "metadata": {
  "kernelspec": {
   "display_name": ".venv",
   "language": "python",
   "name": "python3"
  },
  "language_info": {
   "codemirror_mode": {
    "name": "ipython",
    "version": 3
   },
   "file_extension": ".py",
   "mimetype": "text/x-python",
   "name": "python",
   "nbconvert_exporter": "python",
   "pygments_lexer": "ipython3",
   "version": "3.13.7"
  }
 },
 "nbformat": 4,
 "nbformat_minor": 5
}
